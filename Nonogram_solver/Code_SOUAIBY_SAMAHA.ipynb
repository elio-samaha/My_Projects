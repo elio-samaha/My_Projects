{
 "cells": [
  {
   "cell_type": "markdown",
   "id": "fb58834c",
   "metadata": {},
   "source": [
    "# LU3IN003 - Algortihmique : Projet Tomographie \n",
    "#### *SOUAIBY Christina 21102782 | SAMAHA Elio 21105733*"
   ]
  },
  {
   "cell_type": "code",
   "execution_count": 1,
   "id": "fbe4cfc3",
   "metadata": {},
   "outputs": [],
   "source": [
    "#bibliotheques\n",
    "import copy\n",
    "import sys\n",
    "import matplotlib.pyplot as plt\n",
    "import numpy as np\n",
    "import pandas as pd\n",
    "import time\n",
    "#from timeout_decorator import timeout\n",
    "#from multiprocessing import Process, Queue\n",
    "#import concurrent.futures\n",
    "#from multiprocessing import Process, Manager"
   ]
  },
  {
   "cell_type": "code",
   "execution_count": 16,
   "id": "5da3033b",
   "metadata": {},
   "outputs": [],
   "source": [
    "#fonctions auxiliaires\n",
    "def readstr(file):\n",
    "  return file.readline().strip()\n",
    "\n",
    "def readint(file):\n",
    "  return int(readstr(file))\n",
    "\n",
    "def readints(file):\n",
    "  return list(map(int, readstr(file).split()))"
   ]
  },
  {
   "cell_type": "markdown",
   "id": "00da8c1b",
   "metadata": {},
   "source": [
    "N.B: \n",
    "- Dans certaines fonctions, nous avons fait le choix de rajouter des paramètres dans le but de faciliter l'implémentation.\n",
    "- L'explication en commentaire est concise. Plus de détails sont présents dans le rapport pour clarifier le code."
   ]
  },
  {
   "cell_type": "markdown",
   "id": "ef0e31f8",
   "metadata": {},
   "source": [
    "## 1 Méthode incomplète de résolution"
   ]
  },
  {
   "cell_type": "markdown",
   "id": "5534172f",
   "metadata": {},
   "source": [
    "### 1.1 Première étape"
   ]
  },
  {
   "cell_type": "code",
   "execution_count": 17,
   "id": "d0693b2e",
   "metadata": {},
   "outputs": [],
   "source": [
    "#question 4\n",
    "def T(j, l, lookup={}):\n",
    "    # Vérifier si le résultat pour cette paire (j, l) a déjà été calculé\n",
    "    if (j, l) in lookup:\n",
    "        return lookup[(j, l)]\n",
    "\n",
    "    # Cas de base : pas de bloc à colorier\n",
    "    if l == 0:\n",
    "        # Vérifier si la case j est dans les limites de la grille\n",
    "        if 0 <= j <= M - 1:\n",
    "            return True\n",
    "        return False\n",
    "    elif l >= 1:\n",
    "        # Cas où j < s_l - 1\n",
    "        if j < S[l - 1] - 1:\n",
    "            return False\n",
    "        # Cas où j = s_l - 1\n",
    "        elif j == S[l - 1] - 1:\n",
    "            # Retourne True si c'est le seul bloc, sinon False\n",
    "            return l == 1\n",
    "        else:\n",
    "            # Cas où j > s_l - 1\n",
    "            # Calcul récursif en fonction des deux branches possibles\n",
    "            \n",
    "            #explication left_branch : inserer case blanche + essayer de colorier la sequence S sur les j-1 cases\n",
    "            #explication right_branch : coloration du dernier bloc en noir + inserer case blanche devant\n",
    "            #                          + essayer de colorier les blocs sans le dernier sur les cases restantes\n",
    "            \n",
    "            \n",
    "            left_branch = T(j - 1, l, lookup)\n",
    "            right_branch = T(j - S[l - 1] - 1, l - 1, lookup)\n",
    "            result = left_branch or right_branch\n",
    "\n",
    "    # Stocker le résultat et le retourner\n",
    "    lookup[(j, l)] = result\n",
    "    return result\n"
   ]
  },
  {
   "cell_type": "code",
   "execution_count": 18,
   "id": "545dab2d",
   "metadata": {},
   "outputs": [
    {
     "name": "stdout",
     "output_type": "stream",
     "text": [
      "q4 test 1:  True\n",
      "q4 test 2:  False\n"
     ]
    }
   ],
   "source": [
    "#tests question 4\n",
    "M = 10\n",
    "S = [1 , 2 , 3]\n",
    "print(\"q4 test 1: \", T(M-1 , len(S) , {}))\n",
    "\n",
    "M = 5\n",
    "S = [1 , 2 , 3]\n",
    "print(\"q4 test 2: \", T(M-1 , len(S) , {}))"
   ]
  },
  {
   "cell_type": "markdown",
   "id": "3ff59061",
   "metadata": {},
   "source": [
    "### 1.2 Généralisation"
   ]
  },
  {
   "cell_type": "code",
   "execution_count": 19,
   "id": "2cb5401f",
   "metadata": {},
   "outputs": [],
   "source": [
    "#question 7\n",
    "def T1(Li, j, l, S, lookup={}):\n",
    "    M = len(Li)\n",
    "\n",
    "    # Vérifier si le résultat pour cette paire (j, l) a déjà été calculé\n",
    "    if (j, l) in lookup:\n",
    "        return lookup[(j, l)]\n",
    "\n",
    "    # Cas de base : pas de bloc à colorier\n",
    "    if l == 0:\n",
    "        # Vérifier si la case j est dans les limites de la grille\n",
    "        if -1 <= j <= M - 1:\n",
    "            # Retourne True si aucune case noire mal placée dans la zone.\n",
    "            return (\"N\" not in Li[0:j + 1])\n",
    "        return False\n",
    "    elif l >= 1:\n",
    "        # Cas où j < s_l - 1\n",
    "        if j < S[l - 1] - 1:\n",
    "            return False\n",
    "        # Cas où j = s_l - 1\n",
    "        elif j == S[l - 1] - 1:\n",
    "            # Retourne True si c'est le seul bloc et pas de case blanche, False sinon\n",
    "            return (l == 1) and (\"B\" not in Li[0:j + 1])\n",
    "        else:\n",
    "            # Cas où j > s_l - 1\n",
    "            \n",
    "            # (*) explication left_branch : inserer case blanche + essayer de colorier la sequence S sur les j-1 cases\n",
    "            # (**) explication right_branch : coloration du dernier bloc en noir + inserer case blanche devant\n",
    "            #                          + essayer de colorier les blocs sans le dernier sur les cases restantes\n",
    "            \n",
    "            \n",
    "            #derniere case incolore\n",
    "            if Li[j] == \"I\": \n",
    "                \n",
    "                # Vérifier s'il y a une case blanche mal dans la zone à colorier + s'il y a une case noire mal placée après \n",
    "                N = 0\n",
    "                for i in range(S[l - 1]):\n",
    "                    if Li[j - i] == \"N\":\n",
    "                        N += 1\n",
    "                    if Li[j - i] == \"B\":\n",
    "                        if N > 0:\n",
    "                            return False\n",
    "                        else:\n",
    "                            result = T1(Li, j - i - 1, l, S, lookup)\n",
    "                            lookup[(j, l)] = result\n",
    "                            return result\n",
    "\n",
    "                # Verifier si la case avant le bloc est noire, qui nous contraint a utiliser left_branch (*)\n",
    "                if Li[j - S[l - 1]] == \"N\":\n",
    "                    left_branch = T1(Li, j - 1, l, S, lookup)\n",
    "                    result = left_branch\n",
    "                    \n",
    "                #sinon on a le choix entre left_branch (*) et right_branch (**)\n",
    "                else:\n",
    "                    # Calcul récursif en fonction des deux branches possibles\n",
    "                    left_branch = T1(Li, j - 1, l, S, lookup)\n",
    "                    right_branch = T1(Li, j - S[l - 1] - 1, l - 1, S, lookup)\n",
    "                    result = left_branch or right_branch\n",
    "                    \n",
    "                    \n",
    "            #derniere case blanche : il faut absolument utiliser left_branch (*)\n",
    "            elif Li[j] == \"B\": \n",
    "                left_branch = T1(Li, j - 1, l, S, lookup)\n",
    "                result = left_branch\n",
    "                \n",
    "                \n",
    "            #derniere case noire\n",
    "            elif Li[j] == \"N\": \n",
    "            \n",
    "                # Vérifier s'il y a une case blanche mal placée dans la zone à colorier,\n",
    "                # ou la la case avant le bloc est noire, qui nous fait une case noire en trop dans le bloc\n",
    "                if (\"B\" in Li[j - S[l - 1] + 1:j]) or (Li[j - S[l - 1]] == \"N\"):\n",
    "                    return False\n",
    "                \n",
    "                #sinon on a le choix entre left_branch (*) et right_branch (**)\n",
    "                else:\n",
    "                    right_branch = T1(Li, j - S[l - 1] - 1, l - 1, S, lookup)\n",
    "                    result = right_branch\n",
    "\n",
    "    # Stocker le résultat et le retourner\n",
    "    lookup[(j, l)] = result\n",
    "    return result"
   ]
  },
  {
   "cell_type": "markdown",
   "id": "cc05cdfe",
   "metadata": {},
   "source": [
    "### 1.3 Propagation"
   ]
  },
  {
   "cell_type": "code",
   "execution_count": 20,
   "id": "eb9471f6",
   "metadata": {},
   "outputs": [],
   "source": [
    "#question 9 auxiliaires\n",
    "def ColoreLig(G, k, s, nouveaux):\n",
    "    \n",
    "    L = copy.deepcopy(G[k])\n",
    "    M = len(L)\n",
    "    j = M - 1\n",
    "    l = len(s)\n",
    "    \n",
    "    for i in range(M):\n",
    "        if L[i] == \"I\":\n",
    "            # Tester en coloriant la case en noir\n",
    "            L[i] = \"B\"\n",
    "            test_blanc = T1(L, j, l, s, {})\n",
    "            \n",
    "            # Tester en coloriant la case en blanc\n",
    "            L[i] = \"N\"\n",
    "            test_noir = T1(L, j, l, s, {})\n",
    "            \n",
    "            # Réinitialiser la case puis agir en fonction des tests\n",
    "            L[i] = \"I\"\n",
    "            \n",
    "            # Impossible de colorier en noir ou en blanc\n",
    "            if not test_noir and not test_blanc:\n",
    "                return (False, G)  \n",
    "            \n",
    "            # Colorier la case en noir dans la grille et mettre à jour l'ensemble de nouveaux\n",
    "            elif test_noir and not test_blanc:\n",
    "                L[i] = \"N\"\n",
    "                G[k][i] = \"N\"\n",
    "                nouveaux.add(i)\n",
    "                \n",
    "            # Colorier la case en blanc dans la grille et mettre à jour l'ensemble de nouveaux\n",
    "            elif test_blanc and not test_noir:\n",
    "                L[i] = \"B\"\n",
    "                G[k][i] = \"B\"\n",
    "                nouveaux.add(i)\n",
    "            \n",
    "            #sinon (les 2 tests passent) on ne sait pas quoi choisir donc on garde la case incolore\n",
    "        else :\n",
    "            if not T1(L, j, l, s, {}):\n",
    "                return (False, G)\n",
    "    return (True, G)\n",
    "\n",
    "def ColoreCol(G, k, s, nouveaux):\n",
    "    \n",
    "    C = [G[i][k] for i in range(len(G))]\n",
    "    M = len(C)\n",
    "    j = M - 1\n",
    "    l = len(s)\n",
    "    \n",
    "    for i in range(M):\n",
    "        if C[i] == \"I\":\n",
    "            # Tester en coloriant la case en noir\n",
    "            C[i] = \"B\"\n",
    "            test_blanc = T1(C, j, l, s, {})\n",
    "            \n",
    "            # Tester en coloriant la case en blanc\n",
    "            C[i] = \"N\"\n",
    "            test_noir = T1(C, j, l, s, {})\n",
    "            \n",
    "            # Réinitialiser la case puis agir en fonction des tests\n",
    "            C[i] = \"I\"\n",
    "            \n",
    "            # Impossible de colorier en noir ou en blanc\n",
    "            if not test_noir and not test_blanc:\n",
    "                return (False, G)  \n",
    "            \n",
    "            # Colorier la case en noir dans la grille et mettre à jour l'ensemble de nouveaux\n",
    "            elif test_noir and not test_blanc:\n",
    "                C[i] = \"N\"\n",
    "                G[i][k] = \"N\"\n",
    "                nouveaux.add(i)\n",
    "                \n",
    "            # Colorier la case en blanc dans la grille et mettre à jour l'ensemble de nouveaux\n",
    "            elif test_blanc and not test_noir:\n",
    "                C[i] = \"B\"\n",
    "                G[i][k] = \"B\"\n",
    "                nouveaux.add(i)\n",
    "                \n",
    "            #sinon (les 2 tests passent) on ne sait pas quoi choisir donc on garde la case incolore\n",
    "        else :\n",
    "            if not T1(C, j, l, s, {}):\n",
    "                return (False, G)\n",
    "    return (True, G)\n"
   ]
  },
  {
   "cell_type": "code",
   "execution_count": 21,
   "id": "56839699",
   "metadata": {},
   "outputs": [],
   "source": [
    "#question 9 lecture\n",
    "def read_input(file):\n",
    "  #lecture des lignes brutes du fichier\n",
    "  with open(file, 'r') as file:\n",
    "      lines = file.readlines()\n",
    "\n",
    "  # trouver dans la liste le symbole '#' qui separe les lignes des colonnes\n",
    "  hash_index = lines.index('#\\n')\n",
    "\n",
    "  # creer les sequences de coloration pour les lignes de la grille\n",
    "  lines_input = [list(map(int, line.split())) for line in lines[:hash_index]]\n",
    "\n",
    "  # creer les sequences de coloration pour les colonnes de la grille\n",
    "  columns_input = [list(map(int, line.split())) for line in lines[hash_index + 1:]]\n",
    "\n",
    "  G = [[\"I\" for _ in range(len(columns_input))] for _ in range(len(lines_input))]\n",
    "  return G, lines_input, columns_input\n"
   ]
  },
  {
   "cell_type": "code",
   "execution_count": 22,
   "id": "7b451769",
   "metadata": {},
   "outputs": [],
   "source": [
    "#question 9 coloration\n",
    "def coloration(A, sL, sC):\n",
    "    # Créer une copie de la matrice A pour la modifier\n",
    "    G = copy.deepcopy(A)\n",
    "    N = len(G)\n",
    "    M = len(G[0])\n",
    "    \n",
    "    # Initialiser les ensembles de lignes et colonnes à colorier\n",
    "    lignesAvoir = set(range(N))\n",
    "    colonnesAvoir = set(range(M))\n",
    "    \n",
    "    while (lignesAvoir != set() or colonnesAvoir != set()):\n",
    "        for i in set(lignesAvoir):\n",
    "            nouveaux_l = set()\n",
    "            \n",
    "            # Tenter de colorier la ligne i\n",
    "            (ok_l, G) = ColoreLig(G, i, sL[i], nouveaux_l)\n",
    "            \n",
    "            # Vérifier si la coloration est possible\n",
    "            if not ok_l:\n",
    "                return (\"FAUX\", [[\"I\" for _ in range(M)] for _ in range(N)])\n",
    "            \n",
    "            # Mettre à jour les colonnes à colorier\n",
    "            for a in nouveaux_l:\n",
    "                colonnesAvoir.add(a)  # Ajouter la colonne si elle n'est pas déjà présente\n",
    "            lignesAvoir.discard(i)  # Retirer la ligne (si elle etait presente) car elle est maintenant coloriée\n",
    "            \n",
    "        # Parcourir les colonnes à colorier\n",
    "        for j in set(colonnesAvoir):\n",
    "            nouveaux_c = set()\n",
    "            \n",
    "            # Tenter de colorier la colonne j\n",
    "            (ok_c, G) = ColoreCol(G, j, sC[j], nouveaux_c)\n",
    "            \n",
    "            # Vérifier si la coloration est possible\n",
    "            if not ok_c:\n",
    "                return (\"FAUX\", [[\"I\" for _ in range(M)] for _ in range(N)])\n",
    "            \n",
    "            # Mettre à jour les lignes à colorier\n",
    "            for a in nouveaux_c:\n",
    "                lignesAvoir.add(a)  # Ajouter la ligne si elle n'est pas déjà présente\n",
    "            colonnesAvoir.discard(j) # Retirer la colonne (si elle etait presente) car elle est maintenant coloriée\n",
    "    \n",
    "    # Vérifier si toutes les cases sont coloriées\n",
    "    if all(\"I\" not in k for k in G):\n",
    "        return (\"VRAI\", G)  # La coloration est réussie\n",
    "    else:\n",
    "        return (\"NESAITPAS\", G)  # La coloration est incomplète\n"
   ]
  },
  {
   "cell_type": "code",
   "execution_count": 23,
   "id": "5557547f",
   "metadata": {},
   "outputs": [],
   "source": [
    "#question 9 affichage\n",
    "def visualiser(nonogram):\n",
    "    # Définition des couleurs par des tonalités de gris pour la visualisation\n",
    "    couleurs = {'N': 0, 'B': 1, 'I': 0.5}\n",
    "    \n",
    "    # Création d'un tableau numpy pour représenter le nonogramme avec les couleurs définies \n",
    "    nonogram_array = np.array([[couleurs[cell] for cell in row] for row in nonogram])\n",
    "    \n",
    "    # Utilisation de plt.pcolor pour créer un tracé de couleur en fonction du tableau numpy\n",
    "    plt.pcolor(nonogram_array, cmap='gray', linewidths=0, vmin=0, vmax=1)\n",
    "    \n",
    "    # Inversion de l'axe y pour que le haut de la grille soit affiché en haut\n",
    "    plt.gca().invert_yaxis()\n",
    "    \n",
    "    # Désactivation des axes\n",
    "    plt.axis('off')\n",
    "    \n",
    "    # Ajustement des dimensions pour avoir des carrés\n",
    "    plt.gca().set_aspect('equal', adjustable='box')\n",
    "    \n",
    "    # Affichage de la visualisation du nonogramme\n",
    "    plt.show()"
   ]
  },
  {
   "cell_type": "code",
   "execution_count": 24,
   "id": "1925deba",
   "metadata": {},
   "outputs": [
    {
     "name": "stdout",
     "output_type": "stream",
     "text": [
      "VRAI\n"
     ]
    },
    {
     "data": {
      "image/png": "[encoded data removed]",
      "text/plain": [
       "<Figure size 432x288 with 1 Axes>"
      ]
     },
     "metadata": {
      "needs_background": "light"
     },
     "output_type": "display_data"
    }
   ],
   "source": [
    "#question 9\n",
    "def propagation(text_file):\n",
    "  mat_vide, seq_lig, seq_col = read_input(text_file)\n",
    "  valide, mat_coloree = coloration(mat_vide, seq_lig, seq_col)\n",
    "  print(valide)\n",
    "  visualiser(mat_coloree)\n",
    "\n",
    "#test question 9\n",
    "propagation(\"0.txt\")"
   ]
  },
  {
   "cell_type": "markdown",
   "id": "c5316936",
   "metadata": {},
   "source": [
    "### 1.4 Tests"
   ]
  },
  {
   "cell_type": "code",
   "execution_count": 35,
   "id": "64526497",
   "metadata": {},
   "outputs": [
    {
     "name": "stdout",
     "output_type": "stream",
     "text": [
      "VRAI\n"
     ]
    },
    {
     "data": {
      "image/png": "[encoded data removed]",
      "text/plain": [
       "<Figure size 432x288 with 1 Axes>"
      ]
     },
     "metadata": {
      "needs_background": "light"
     },
     "output_type": "display_data"
    },
    {
     "name": "stdout",
     "output_type": "stream",
     "text": [
      "VRAI\n"
     ]
    },
    {
     "data": {
      "image/png": "[encoded data removed]",
      "text/plain": [
       "<Figure size 432x288 with 1 Axes>"
      ]
     },
     "metadata": {
      "needs_background": "light"
     },
     "output_type": "display_data"
    },
    {
     "name": "stdout",
     "output_type": "stream",
     "text": [
      "VRAI\n"
     ]
    },
    {
     "data": {
      "image/png": "[encoded data removed]",
      "text/plain": [
       "<Figure size 432x288 with 1 Axes>"
      ]
     },
     "metadata": {
      "needs_background": "light"
     },
     "output_type": "display_data"
    },
    {
     "name": "stdout",
     "output_type": "stream",
     "text": [
      "VRAI\n"
     ]
    },
    {
     "data": {
      "image/png": "[encoded data removed]",
      "text/plain": [
       "<Figure size 432x288 with 1 Axes>"
      ]
     },
     "metadata": {
      "needs_background": "light"
     },
     "output_type": "display_data"
    },
    {
     "name": "stdout",
     "output_type": "stream",
     "text": [
      "VRAI\n"
     ]
    },
    {
     "data": {
      "image/png": "[encoded data removed]",
      "text/plain": [
       "<Figure size 432x288 with 1 Axes>"
      ]
     },
     "metadata": {
      "needs_background": "light"
     },
     "output_type": "display_data"
    },
    {
     "name": "stdout",
     "output_type": "stream",
     "text": [
      "VRAI\n"
     ]
    },
    {
     "data": {
      "image/png": "[encoded data removed]",
      "text/plain": [
       "<Figure size 432x288 with 1 Axes>"
      ]
     },
     "metadata": {
      "needs_background": "light"
     },
     "output_type": "display_data"
    },
    {
     "name": "stdout",
     "output_type": "stream",
     "text": [
      "VRAI\n"
     ]
    },
    {
     "data": {
      "image/png": "[encoded data removed]",
      "text/plain": [
       "<Figure size 432x288 with 1 Axes>"
      ]
     },
     "metadata": {
      "needs_background": "light"
     },
     "output_type": "display_data"
    },
    {
     "name": "stdout",
     "output_type": "stream",
     "text": [
      "VRAI\n"
     ]
    },
    {
     "data": {
      "image/png": "[encoded data removed]",
      "text/plain": [
       "<Figure size 432x288 with 1 Axes>"
      ]
     },
     "metadata": {
      "needs_background": "light"
     },
     "output_type": "display_data"
    },
    {
     "name": "stdout",
     "output_type": "stream",
     "text": [
      "VRAI\n"
     ]
    },
    {
     "data": {
      "image/png": "[encoded data removed]",
      "text/plain": [
       "<Figure size 432x288 with 1 Axes>"
      ]
     },
     "metadata": {
      "needs_background": "light"
     },
     "output_type": "display_data"
    },
    {
     "name": "stdout",
     "output_type": "stream",
     "text": [
      "VRAI\n"
     ]
    },
    {
     "data": {
      "image/png": "[encoded data removed]",
      "text/plain": [
       "<Figure size 432x288 with 1 Axes>"
      ]
     },
     "metadata": {
      "needs_background": "light"
     },
     "output_type": "display_data"
    },
    {
     "data": {
      "text/html": [
       "<div>\n",
       "<style scoped>\n",
       "    .dataframe tbody tr th:only-of-type {\n",
       "        vertical-align: middle;\n",
       "    }\n",
       "\n",
       "    .dataframe tbody tr th {\n",
       "        vertical-align: top;\n",
       "    }\n",
       "\n",
       "    .dataframe thead th {\n",
       "        text-align: right;\n",
       "    }\n",
       "</style>\n",
       "<table border=\"1\" class=\"dataframe\">\n",
       "  <thead>\n",
       "    <tr style=\"text-align: right;\">\n",
       "      <th></th>\n",
       "      <th></th>\n",
       "    </tr>\n",
       "    <tr>\n",
       "      <th>Instances 1-10</th>\n",
       "      <th>Temps de résolution de la méthode de propagation (secondes)</th>\n",
       "    </tr>\n",
       "  </thead>\n",
       "  <tbody>\n",
       "    <tr>\n",
       "      <th>1.txt</th>\n",
       "      <th>0.091145</th>\n",
       "    </tr>\n",
       "    <tr>\n",
       "      <th>2.txt</th>\n",
       "      <th>0.822569</th>\n",
       "    </tr>\n",
       "    <tr>\n",
       "      <th>3.txt</th>\n",
       "      <th>0.682649</th>\n",
       "    </tr>\n",
       "    <tr>\n",
       "      <th>4.txt</th>\n",
       "      <th>1.471263</th>\n",
       "    </tr>\n",
       "    <tr>\n",
       "      <th>5.txt</th>\n",
       "      <th>1.343043</th>\n",
       "    </tr>\n",
       "    <tr>\n",
       "      <th>6.txt</th>\n",
       "      <th>3.316957</th>\n",
       "    </tr>\n",
       "    <tr>\n",
       "      <th>7.txt</th>\n",
       "      <th>1.887378</th>\n",
       "    </tr>\n",
       "    <tr>\n",
       "      <th>8.txt</th>\n",
       "      <th>3.088097</th>\n",
       "    </tr>\n",
       "    <tr>\n",
       "      <th>9.txt</th>\n",
       "      <th>3328.354651</th>\n",
       "    </tr>\n",
       "    <tr>\n",
       "      <th>10.txt</th>\n",
       "      <th>51.180273</th>\n",
       "    </tr>\n",
       "  </tbody>\n",
       "</table>\n",
       "</div>"
      ],
      "text/plain": [
       "Empty DataFrame\n",
       "Columns: []\n",
       "Index: [(1.txt, 0.09114456176757812), (2.txt, 0.8225691318511963), (3.txt, 0.6826488971710205), (4.txt, 1.4712626934051514), (5.txt, 1.343043327331543), (6.txt, 3.3169565200805664), (7.txt, 1.887378215789795), (8.txt, 3.088097333908081), (9.txt, 3328.3546509742737), (10.txt, 51.180272817611694)]"
      ]
     },
     "execution_count": 35,
     "metadata": {},
     "output_type": "execute_result"
    }
   ],
   "source": [
    "#question 10 tests\n",
    "def measure_time(func, i, j):\n",
    "    results = []\n",
    "    for k in range(i, j + 1):\n",
    "        start_time = time.time()\n",
    "        instance_file = f\"{k}.txt\"\n",
    "        func(instance_file)\n",
    "        elapsed_time = time.time() - start_time\n",
    "        results.append((instance_file, elapsed_time))\n",
    "    return results\n",
    "\n",
    "dfp = pd.DataFrame(measure_time(propagation,1,10), columns=[\"Instances 1-10\", \"Temps de résolution de la méthode de propagation (secondes)\"])\n",
    "dfp = dfp.set_index( [\"Instances 1-10\", \"Temps de résolution de la méthode de propagation (secondes)\"] )\n",
    "dfp"
   ]
  },
  {
   "cell_type": "code",
   "execution_count": 34,
   "id": "f608a136",
   "metadata": {},
   "outputs": [
    {
     "name": "stdout",
     "output_type": "stream",
     "text": [
      "VRAI\n"
     ]
    },
    {
     "data": {
      "image/png": "[encoded data removed]",
      "text/plain": [
       "<Figure size 432x288 with 1 Axes>"
      ]
     },
     "metadata": {
      "needs_background": "light"
     },
     "output_type": "display_data"
    },
    {
     "data": {
      "text/plain": [
       "<Figure size 432x288 with 0 Axes>"
      ]
     },
     "metadata": {},
     "output_type": "display_data"
    }
   ],
   "source": [
    "#question 10 instance 9\n",
    "propagation(\"9.txt\")\n",
    "plt.savefig(\"instance9.png\", dpi=300)"
   ]
  },
  {
   "cell_type": "code",
   "execution_count": 15,
   "id": "fdbed637",
   "metadata": {},
   "outputs": [
    {
     "name": "stdout",
     "output_type": "stream",
     "text": [
      "NESAITPAS\n"
     ]
    },
    {
     "data": {
      "image/png": "[encoded data removed]",
      "text/plain": [
       "<Figure size 432x288 with 1 Axes>"
      ]
     },
     "metadata": {
      "needs_background": "light"
     },
     "output_type": "display_data"
    }
   ],
   "source": [
    "#question 11\n",
    "propagation(\"11.txt\")"
   ]
  },
  {
   "cell_type": "markdown",
   "id": "77eae1a5",
   "metadata": {},
   "source": [
    "## 2 Méthode complète de résolution"
   ]
  },
  {
   "cell_type": "code",
   "execution_count": 25,
   "id": "d49e5a9d",
   "metadata": {},
   "outputs": [],
   "source": [
    "#question 12 coloration\n",
    "def colorier_et_propager(A, sL, sC, lig, col, c):\n",
    "    # Créer une copie de la matrice A pour la modifier\n",
    "    G = copy.deepcopy(A)\n",
    "    N = len(G)\n",
    "    M = len(G[0])\n",
    "\n",
    "    # Modifier la case à la position (lig, col) avec la couleur c\n",
    "    G[lig][col] = c\n",
    "\n",
    "    # Initialiser les ensembles de lignes et colonnes à vérifier\n",
    "    lignesAvoir = {lig}\n",
    "    colonnesAvoir = {col}\n",
    "\n",
    "    # Vérifier et propager la coloration jusqu'à ce que toutes les contraintes soient satisfaites\n",
    "    while (lignesAvoir != set() or colonnesAvoir != set()):\n",
    "        # Parcourir les lignes à vérifier\n",
    "        for i in set(lignesAvoir):\n",
    "            nouveaux_l = set()\n",
    "\n",
    "            # Tenter de colorier la ligne i\n",
    "            (ok_l, G) = ColoreLig(G, i, sL[i], nouveaux_l)\n",
    "\n",
    "            # Vérifier si la coloration est possible\n",
    "            if not ok_l:\n",
    "                return (\"FAUX\", [[\"I\" for _ in range(M)] for _ in range(N)])\n",
    "\n",
    "            # Mettre à jour les colonnes à vérifier\n",
    "            for a in nouveaux_l:\n",
    "                colonnesAvoir.add(a)  # Ajouter la colonne si elle n'est pas déjà présente\n",
    "            lignesAvoir.discard(i)  # Retirer la ligne (si elle était présente) car elle est maintenant coloriée\n",
    "\n",
    "        # Parcourir les colonnes à vérifier\n",
    "        for j in set(colonnesAvoir):\n",
    "            nouveaux_c = set()\n",
    "\n",
    "            # Tenter de colorier la colonne j\n",
    "            (ok_c, G) = ColoreCol(G, j, sC[j], nouveaux_c)\n",
    "\n",
    "            # Vérifier si la coloration est possible\n",
    "            if not ok_c:\n",
    "                return (\"FAUX\", [[\"I\" for _ in range(M)] for _ in range(N)])\n",
    "\n",
    "            # Mettre à jour les lignes à vérifier\n",
    "            for a in nouveaux_c:\n",
    "                lignesAvoir.add(a)  # Ajouter la ligne si elle n'est pas déjà présente\n",
    "            colonnesAvoir.discard(j)  # Retirer la colonne (si elle était présente) car elle est maintenant coloriée\n",
    "\n",
    "    # Vérifier si toutes les cases sont coloriées\n",
    "    if all(\"I\" not in k for k in G):\n",
    "        return (\"VRAI\", G)  # La coloration est réussie\n",
    "    else:\n",
    "        return (\"NESAITPAS\", G)  # La coloration est incomplète\n"
   ]
  },
  {
   "cell_type": "code",
   "execution_count": 27,
   "id": "6117c8e4",
   "metadata": {},
   "outputs": [],
   "source": [
    "#question 12 appel recursif enumeration\n",
    "def enum_rec(A, sL, sC, k, c):\n",
    "    # Créer une copie de la matrice A pour la modifier\n",
    "    G = copy.deepcopy(A)\n",
    "    N, M = len(A), len(A[0])\n",
    "\n",
    "    # Vérifier si toutes les cases ont été coloriées\n",
    "    if k == N * M:\n",
    "        return \"VRAI\"\n",
    "\n",
    "    # Calculer les indices de ligne et de colonne pour la case actuelle\n",
    "    i = k // M\n",
    "    j = k % M\n",
    "\n",
    "    # Tenter de colorier la case actuelle avec la couleur c et propager la coloration\n",
    "    ok, G = colorier_et_propager(G, sL, sC, i, j, c)\n",
    "\n",
    "    # Vérifier si la coloration est impossible\n",
    "    if ok == \"FAUX\":\n",
    "        return (\"FAUX\", [[\"I\" for _ in range(M)] for _ in range(N)])\n",
    "\n",
    "    # Vérifier si la coloration est complète\n",
    "    if ok == \"VRAI\":\n",
    "        return (\"VRAI\", G)\n",
    "\n",
    "    # Sinon, Trouver la prochaine case indéterminée\n",
    "    kp = k\n",
    "    while kp<N*M and G[kp // M][kp % M] != \"I\":\n",
    "        kp += 1\n",
    "\n",
    "    # Enumérer les possibilités de coloration pour la prochaine case avec les couleurs \"B\" et \"N\"\n",
    "    v1, G1 = enum_rec(G, sL, sC, kp, \"B\")\n",
    "    if v1 == \"VRAI\":\n",
    "        return (\"VRAI\", G1)\n",
    "\n",
    "    v2, G2 = enum_rec(G, sL, sC, kp, \"N\")\n",
    "    if v2 == \"VRAI\":\n",
    "        return (\"VRAI\", G2)\n",
    "\n",
    "    # Si aucune coloration n'est possible, retourner \"FAUX\"\n",
    "    return (\"FAUX\", [[\"I\" for _ in range(M)] for _ in range(N)])\n"
   ]
  },
  {
   "cell_type": "code",
   "execution_count": 28,
   "id": "172435ca",
   "metadata": {},
   "outputs": [],
   "source": [
    "#question 12 enumeration\n",
    "def enumeration(A, sL, sC):\n",
    "    N, M = len(A), len(A[0])\n",
    "\n",
    "    # Tenter une première coloration de la matrice\n",
    "    valide, G = coloration(A, sL, sC)\n",
    "    \n",
    "    # Vérifier si la coloration initiale est possible\n",
    "    if valide == \"FAUX\":\n",
    "        return (\"FAUX\", [[\"I\" for _ in range(M)] for _ in range(N)])\n",
    "    \n",
    "    # Vérifier si la coloration initiale est complète\n",
    "    if valide == \"VRAI\":\n",
    "        return (\"VRAI\", G)\n",
    "\n",
    "    # Si elle n'est pas complète, trouver la première case dont la coloration n'a pas été déterminée dès l'appel à coloration\n",
    "    \"\"\"\n",
    "    k = 0\n",
    "    while k<N*M and G[k//M][k%M] != \"I\":\n",
    "        k += 1\n",
    "    \"\"\"\n",
    "    # Enumérer les possibilités de coloration à partir de la première case indéterminée en commençant par le blanc \n",
    "    v1, G1 = enum_rec(G, sL, sC, 0, \"B\")\n",
    "    if v1 == \"VRAI\":\n",
    "        return (\"VRAI\", G1)\n",
    "\n",
    "    # Si la coloration en commençant par le blanc ne réussit pas, essayer avec le noir\n",
    "    v2, G2 = enum_rec(G, sL, sC, 0, \"N\")\n",
    "    if v2 == \"VRAI\":\n",
    "        return (\"VRAI\", G2)\n",
    "\n",
    "    # Si aucune coloration n'est possible, retourner \"FAUX\"\n",
    "    return (\"FAUX\", [[\"I\" for _ in range(M)] for _ in range(N)])"
   ]
  },
  {
   "cell_type": "code",
   "execution_count": 29,
   "id": "af3b265f",
   "metadata": {},
   "outputs": [],
   "source": [
    "#question 12\n",
    "def resolutionComplete(text_file):\n",
    "    mat_vide, seq_lig, seq_col = read_input(text_file)\n",
    "    valide, mat_coloree = enumeration(mat_vide, seq_lig, seq_col)\n",
    "    print(valide)\n",
    "    visualiser(mat_coloree)"
   ]
  },
  {
   "cell_type": "markdown",
   "id": "8cbce5d0",
   "metadata": {},
   "source": [
    "### 2.1 Implantation et tests"
   ]
  },
  {
   "cell_type": "code",
   "execution_count": 30,
   "id": "8fd56251",
   "metadata": {},
   "outputs": [
    {
     "name": "stdout",
     "output_type": "stream",
     "text": [
      "VRAI\n"
     ]
    },
    {
     "data": {
      "image/png": "[encoded data removed]",
      "text/plain": [
       "<Figure size 432x288 with 1 Axes>"
      ]
     },
     "metadata": {
      "needs_background": "light"
     },
     "output_type": "display_data"
    }
   ],
   "source": [
    "#question 13\n",
    "resolutionComplete(\"11.txt\")"
   ]
  },
  {
   "cell_type": "code",
   "execution_count": 21,
   "id": "f2c2eaeb",
   "metadata": {},
   "outputs": [
    {
     "name": "stdout",
     "output_type": "stream",
     "text": [
      "VRAI\n"
     ]
    },
    {
     "data": {
      "image/png": "[encoded data removed]",
      "text/plain": [
       "<Figure size 432x288 with 1 Axes>"
      ]
     },
     "metadata": {
      "needs_background": "light"
     },
     "output_type": "display_data"
    },
    {
     "name": "stdout",
     "output_type": "stream",
     "text": [
      "VRAI\n"
     ]
    },
    {
     "data": {
      "image/png": "[encoded data removed]",
      "text/plain": [
       "<Figure size 432x288 with 1 Axes>"
      ]
     },
     "metadata": {
      "needs_background": "light"
     },
     "output_type": "display_data"
    },
    {
     "name": "stdout",
     "output_type": "stream",
     "text": [
      "VRAI\n"
     ]
    },
    {
     "data": {
      "image/png": "[encoded data removed]",
      "text/plain": [
       "<Figure size 432x288 with 1 Axes>"
      ]
     },
     "metadata": {
      "needs_background": "light"
     },
     "output_type": "display_data"
    },
    {
     "name": "stdout",
     "output_type": "stream",
     "text": [
      "VRAI\n"
     ]
    },
    {
     "data": {
      "image/png": "[encoded data removed]",
      "text/plain": [
       "<Figure size 432x288 with 1 Axes>"
      ]
     },
     "metadata": {
      "needs_background": "light"
     },
     "output_type": "display_data"
    },
    {
     "name": "stdout",
     "output_type": "stream",
     "text": [
      "VRAI\n"
     ]
    },
    {
     "data": {
      "image/png": "[encoded data removed]",
      "text/plain": [
       "<Figure size 432x288 with 1 Axes>"
      ]
     },
     "metadata": {
      "needs_background": "light"
     },
     "output_type": "display_data"
    },
    {
     "name": "stdout",
     "output_type": "stream",
     "text": [
      "VRAI\n"
     ]
    },
    {
     "data": {
      "image/png": "[encoded data removed]",
      "text/plain": [
       "<Figure size 432x288 with 1 Axes>"
      ]
     },
     "metadata": {
      "needs_background": "light"
     },
     "output_type": "display_data"
    },
    {
     "name": "stdout",
     "output_type": "stream",
     "text": [
      "VRAI\n"
     ]
    },
    {
     "data": {
      "image/png": "[encoded data removed]",
      "text/plain": [
       "<Figure size 432x288 with 1 Axes>"
      ]
     },
     "metadata": {
      "needs_background": "light"
     },
     "output_type": "display_data"
    },
    {
     "name": "stdout",
     "output_type": "stream",
     "text": [
      "VRAI\n"
     ]
    },
    {
     "data": {
      "image/png": "[encoded data removed]",
      "text/plain": [
       "<Figure size 432x288 with 1 Axes>"
      ]
     },
     "metadata": {
      "needs_background": "light"
     },
     "output_type": "display_data"
    },
    {
     "name": "stdout",
     "output_type": "stream",
     "text": [
      "VRAI\n"
     ]
    },
    {
     "data": {
      "image/png": "[encoded data removed]",
      "text/plain": [
       "<Figure size 432x288 with 1 Axes>"
      ]
     },
     "metadata": {
      "needs_background": "light"
     },
     "output_type": "display_data"
    },
    {
     "name": "stdout",
     "output_type": "stream",
     "text": [
      "VRAI\n"
     ]
    },
    {
     "data": {
      "image/png": "[encoded data removed]",
      "text/plain": [
       "<Figure size 432x288 with 1 Axes>"
      ]
     },
     "metadata": {
      "needs_background": "light"
     },
     "output_type": "display_data"
    },
    {
     "name": "stdout",
     "output_type": "stream",
     "text": [
      "VRAI\n"
     ]
    },
    {
     "data": {
      "image/png": "[encoded data removed]",
      "text/plain": [
       "<Figure size 432x288 with 1 Axes>"
      ]
     },
     "metadata": {
      "needs_background": "light"
     },
     "output_type": "display_data"
    },
    {
     "name": "stdout",
     "output_type": "stream",
     "text": [
      "VRAI\n"
     ]
    },
    {
     "data": {
      "image/png": "[encoded data removed]",
      "text/plain": [
       "<Figure size 432x288 with 1 Axes>"
      ]
     },
     "metadata": {
      "needs_background": "light"
     },
     "output_type": "display_data"
    },
    {
     "name": "stdout",
     "output_type": "stream",
     "text": [
      "VRAI\n"
     ]
    },
    {
     "data": {
      "image/png": "[encoded data removed]",
      "text/plain": [
       "<Figure size 432x288 with 1 Axes>"
      ]
     },
     "metadata": {
      "needs_background": "light"
     },
     "output_type": "display_data"
    },
    {
     "name": "stdout",
     "output_type": "stream",
     "text": [
      "VRAI\n"
     ]
    },
    {
     "data": {
      "image/png": "[encoded data removed]",
      "text/plain": [
       "<Figure size 432x288 with 1 Axes>"
      ]
     },
     "metadata": {
      "needs_background": "light"
     },
     "output_type": "display_data"
    },
    {
     "name": "stdout",
     "output_type": "stream",
     "text": [
      "VRAI\n"
     ]
    },
    {
     "data": {
      "image/png": "[encoded data removed]",
      "text/plain": [
       "<Figure size 432x288 with 1 Axes>"
      ]
     },
     "metadata": {
      "needs_background": "light"
     },
     "output_type": "display_data"
    },
    {
     "name": "stdout",
     "output_type": "stream",
     "text": [
      "VRAI\n"
     ]
    },
    {
     "data": {
      "image/png": "[encoded data removed]",
      "text/plain": [
       "<Figure size 432x288 with 1 Axes>"
      ]
     },
     "metadata": {
      "needs_background": "light"
     },
     "output_type": "display_data"
    },
    {
     "data": {
      "text/html": [
       "<div>\n",
       "<style scoped>\n",
       "    .dataframe tbody tr th:only-of-type {\n",
       "        vertical-align: middle;\n",
       "    }\n",
       "\n",
       "    .dataframe tbody tr th {\n",
       "        vertical-align: top;\n",
       "    }\n",
       "\n",
       "    .dataframe thead th {\n",
       "        text-align: right;\n",
       "    }\n",
       "</style>\n",
       "<table border=\"1\" class=\"dataframe\">\n",
       "  <thead>\n",
       "    <tr style=\"text-align: right;\">\n",
       "      <th></th>\n",
       "      <th></th>\n",
       "    </tr>\n",
       "    <tr>\n",
       "      <th>Instances 1-16</th>\n",
       "      <th>Temps de résolution de la méthode de résolution complète (secondes)</th>\n",
       "    </tr>\n",
       "  </thead>\n",
       "  <tbody>\n",
       "    <tr>\n",
       "      <th>1.txt</th>\n",
       "      <th>0.148590</th>\n",
       "    </tr>\n",
       "    <tr>\n",
       "      <th>2.txt</th>\n",
       "      <th>0.617671</th>\n",
       "    </tr>\n",
       "    <tr>\n",
       "      <th>3.txt</th>\n",
       "      <th>0.519528</th>\n",
       "    </tr>\n",
       "    <tr>\n",
       "      <th>4.txt</th>\n",
       "      <th>1.114934</th>\n",
       "    </tr>\n",
       "    <tr>\n",
       "      <th>5.txt</th>\n",
       "      <th>0.850766</th>\n",
       "    </tr>\n",
       "    <tr>\n",
       "      <th>6.txt</th>\n",
       "      <th>2.224494</th>\n",
       "    </tr>\n",
       "    <tr>\n",
       "      <th>7.txt</th>\n",
       "      <th>1.307734</th>\n",
       "    </tr>\n",
       "    <tr>\n",
       "      <th>8.txt</th>\n",
       "      <th>1.928680</th>\n",
       "    </tr>\n",
       "    <tr>\n",
       "      <th>9.txt</th>\n",
       "      <th>29.717954</th>\n",
       "    </tr>\n",
       "    <tr>\n",
       "      <th>10.txt</th>\n",
       "      <th>30.182730</th>\n",
       "    </tr>\n",
       "    <tr>\n",
       "      <th>11.txt</th>\n",
       "      <th>0.068439</th>\n",
       "    </tr>\n",
       "    <tr>\n",
       "      <th>12.txt</th>\n",
       "      <th>1.994709</th>\n",
       "    </tr>\n",
       "    <tr>\n",
       "      <th>13.txt</th>\n",
       "      <th>2.375920</th>\n",
       "    </tr>\n",
       "    <tr>\n",
       "      <th>14.txt</th>\n",
       "      <th>1.869900</th>\n",
       "    </tr>\n",
       "    <tr>\n",
       "      <th>15.txt</th>\n",
       "      <th>2.264948</th>\n",
       "    </tr>\n",
       "    <tr>\n",
       "      <th>16.txt</th>\n",
       "      <th>203.106779</th>\n",
       "    </tr>\n",
       "  </tbody>\n",
       "</table>\n",
       "</div>"
      ],
      "text/plain": [
       "Empty DataFrame\n",
       "Columns: []\n",
       "Index: [(1.txt, 0.1485896110534668), (2.txt, 0.6176712512969971), (3.txt, 0.5195281505584717), (4.txt, 1.1149342060089111), (5.txt, 0.8507664203643799), (6.txt, 2.2244935035705566), (7.txt, 1.3077335357666016), (8.txt, 1.928680181503296), (9.txt, 29.7179536819458), (10.txt, 30.182730197906494), (11.txt, 0.06843876838684082), (12.txt, 1.9947094917297363), (13.txt, 2.3759195804595947), (14.txt, 1.8699004650115967), (15.txt, 2.2649481296539307), (16.txt, 203.10677862167358)]"
      ]
     },
     "execution_count": 21,
     "metadata": {},
     "output_type": "execute_result"
    }
   ],
   "source": [
    "#question 14 resolution complete 1-16\n",
    "dfrc = pd.DataFrame(measure_time(resolutionComplete,1,16), columns=[\"Instances 1-16\", \"Temps de résolution de la méthode de résolution complète (secondes)\"])\n",
    "dfrc = dfrc.set_index( [\"Instances 1-16\", \"Temps de résolution de la méthode de résolution complète (secondes)\"] )\n",
    "dfrc"
   ]
  },
  {
   "cell_type": "code",
   "execution_count": 36,
   "id": "7bc61574",
   "metadata": {},
   "outputs": [
    {
     "name": "stdout",
     "output_type": "stream",
     "text": [
      "NESAITPAS\n"
     ]
    },
    {
     "data": {
      "image/png": "[encoded data removed]",
      "text/plain": [
       "<Figure size 432x288 with 1 Axes>"
      ]
     },
     "metadata": {
      "needs_background": "light"
     },
     "output_type": "display_data"
    },
    {
     "name": "stdout",
     "output_type": "stream",
     "text": [
      "NESAITPAS\n"
     ]
    },
    {
     "data": {
      "image/png": "[encoded data removed]",
      "text/plain": [
       "<Figure size 432x288 with 1 Axes>"
      ]
     },
     "metadata": {
      "needs_background": "light"
     },
     "output_type": "display_data"
    },
    {
     "name": "stdout",
     "output_type": "stream",
     "text": [
      "NESAITPAS\n"
     ]
    },
    {
     "data": {
      "image/png": "[encoded data removed]",
      "text/plain": [
       "<Figure size 432x288 with 1 Axes>"
      ]
     },
     "metadata": {
      "needs_background": "light"
     },
     "output_type": "display_data"
    },
    {
     "name": "stdout",
     "output_type": "stream",
     "text": [
      "NESAITPAS\n"
     ]
    },
    {
     "data": {
      "image/png": "[encoded data removed]",
      "text/plain": [
       "<Figure size 432x288 with 1 Axes>"
      ]
     },
     "metadata": {
      "needs_background": "light"
     },
     "output_type": "display_data"
    },
    {
     "name": "stdout",
     "output_type": "stream",
     "text": [
      "NESAITPAS\n"
     ]
    },
    {
     "data": {
      "image/png": "[encoded data removed]",
      "text/plain": [
       "<Figure size 432x288 with 1 Axes>"
      ]
     },
     "metadata": {
      "needs_background": "light"
     },
     "output_type": "display_data"
    },
    {
     "data": {
      "text/html": [
       "<div>\n",
       "<style scoped>\n",
       "    .dataframe tbody tr th:only-of-type {\n",
       "        vertical-align: middle;\n",
       "    }\n",
       "\n",
       "    .dataframe tbody tr th {\n",
       "        vertical-align: top;\n",
       "    }\n",
       "\n",
       "    .dataframe thead th {\n",
       "        text-align: right;\n",
       "    }\n",
       "</style>\n",
       "<table border=\"1\" class=\"dataframe\">\n",
       "  <thead>\n",
       "    <tr style=\"text-align: right;\">\n",
       "      <th></th>\n",
       "      <th></th>\n",
       "    </tr>\n",
       "    <tr>\n",
       "      <th>Instances 12-16</th>\n",
       "      <th>Temps de résolution de la méthode de propagation (secondes)</th>\n",
       "    </tr>\n",
       "  </thead>\n",
       "  <tbody>\n",
       "    <tr>\n",
       "      <th>12.txt</th>\n",
       "      <th>2.399202</th>\n",
       "    </tr>\n",
       "    <tr>\n",
       "      <th>13.txt</th>\n",
       "      <th>3.665771</th>\n",
       "    </tr>\n",
       "    <tr>\n",
       "      <th>14.txt</th>\n",
       "      <th>2.821779</th>\n",
       "    </tr>\n",
       "    <tr>\n",
       "      <th>15.txt</th>\n",
       "      <th>1.629336</th>\n",
       "    </tr>\n",
       "    <tr>\n",
       "      <th>16.txt</th>\n",
       "      <th>7.000581</th>\n",
       "    </tr>\n",
       "  </tbody>\n",
       "</table>\n",
       "</div>"
      ],
      "text/plain": [
       "Empty DataFrame\n",
       "Columns: []\n",
       "Index: [(12.txt, 2.3992021083831787), (13.txt, 3.665771245956421), (14.txt, 2.821779489517212), (15.txt, 1.629335880279541), (16.txt, 7.000580549240112)]"
      ]
     },
     "execution_count": 36,
     "metadata": {},
     "output_type": "execute_result"
    }
   ],
   "source": [
    "#question 14 propagation 12-16\n",
    "dfp2 = pd.DataFrame(measure_time(propagation,12,16), columns = [\"Instances 12-16\", \"Temps de résolution de la méthode de propagation (secondes)\"])\n",
    "dfp2 = dfp2.set_index( [\"Instances 12-16\", \"Temps de résolution de la méthode de propagation (secondes)\"] )\n",
    "dfp2"
   ]
  },
  {
   "cell_type": "code",
   "execution_count": 31,
   "id": "f238d5a2",
   "metadata": {},
   "outputs": [
    {
     "name": "stdout",
     "output_type": "stream",
     "text": [
      "NESAITPAS\n"
     ]
    },
    {
     "data": {
      "image/png": "[encoded data removed]",
      "text/plain": [
       "<Figure size 432x288 with 1 Axes>"
      ]
     },
     "metadata": {
      "needs_background": "light"
     },
     "output_type": "display_data"
    },
    {
     "data": {
      "text/plain": [
       "<Figure size 432x288 with 0 Axes>"
      ]
     },
     "metadata": {},
     "output_type": "display_data"
    }
   ],
   "source": [
    "#question 14 instance 15 propagation\n",
    "propagation(\"15.txt\")\n",
    "plt.savefig(\"instance15-propagation.png\",dpi=300)"
   ]
  },
  {
   "cell_type": "code",
   "execution_count": 32,
   "id": "722780c4",
   "metadata": {},
   "outputs": [
    {
     "name": "stdout",
     "output_type": "stream",
     "text": [
      "VRAI\n"
     ]
    },
    {
     "data": {
      "image/png": "[encoded data removed]",
      "text/plain": [
       "<Figure size 432x288 with 1 Axes>"
      ]
     },
     "metadata": {
      "needs_background": "light"
     },
     "output_type": "display_data"
    },
    {
     "data": {
      "text/plain": [
       "<Figure size 432x288 with 0 Axes>"
      ]
     },
     "metadata": {},
     "output_type": "display_data"
    }
   ],
   "source": [
    "#question 14 instance 15 res_complete\n",
    "resolutionComplete(\"15.txt\")\n",
    "plt.savefig(\"instance15-rc.png\",dpi=300)"
   ]
  },
  {
   "cell_type": "code",
   "execution_count": null,
   "id": "9f32e680",
   "metadata": {},
   "outputs": [],
   "source": []
  }
 ],
 "metadata": {
  "kernelspec": {
   "display_name": "Python 3",
   "language": "python",
   "name": "python3"
  },
  "language_info": {
   "codemirror_mode": {
    "name": "ipython",
    "version": 3
   },
   "file_extension": ".py",
   "mimetype": "text/x-python",
   "name": "python",
   "nbconvert_exporter": "python",
   "pygments_lexer": "ipython3",
   "version": "3.8.8"
  }
 },
 "nbformat": 4,
 "nbformat_minor": 5
}
